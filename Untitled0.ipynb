{
  "nbformat": 4,
  "nbformat_minor": 0,
  "metadata": {
    "colab": {
      "provenance": [],
      "authorship_tag": "ABX9TyM3RVdTgkmUdAI1my2FXOde",
      "include_colab_link": true
    },
    "kernelspec": {
      "name": "python3",
      "display_name": "Python 3"
    },
    "language_info": {
      "name": "python"
    }
  },
  "cells": [
    {
      "cell_type": "markdown",
      "metadata": {
        "id": "view-in-github",
        "colab_type": "text"
      },
      "source": [
        "<a href=\"https://colab.research.google.com/github/ky3ob/dz1_Kuznecov/blob/main/Untitled0.ipynb\" target=\"_parent\"><img src=\"https://colab.research.google.com/assets/colab-badge.svg\" alt=\"Open In Colab\"/></a>"
      ]
    },
    {
      "cell_type": "code",
      "execution_count": 1,
      "metadata": {
        "id": "hyRSM_w8nzuv"
      },
      "outputs": [],
      "source": [
        "import numpy as np\n",
        "import matplotlib.pyplot as plt\n",
        "\n",
        "a, b = 2, 5\n",
        "data = np.random.beta(a, b, 1000)\n",
        "plt.hist(data, bins=30, density=True)\n",
        "plt.title('Бета распределение с a=2, b=5')\n",
        "plt.show()"
      ]
    },
    {
      "cell_type": "code",
      "source": [
        "n, p = 10, 0.5\n",
        "data = np.random.binomial(n, p, 1000)\n",
        "plt.hist(data, bins=30, density=True)\n",
        "plt.title('Биноминаальное распределение с n=10, p=0.5')\n",
        "plt.show()"
      ],
      "metadata": {
        "id": "84h-xE7aoKw2"
      },
      "execution_count": null,
      "outputs": []
    },
    {
      "cell_type": "code",
      "source": [
        "scale = 1\n",
        "data = np.random.exponential(scale, 1000)\n",
        "plt.hist(data, bins=30, density=True)\n",
        "plt.title('Экспоненциальное распределение с масштабом=1')\n",
        "plt.show()"
      ],
      "metadata": {
        "id": "VZhlILfpoie0"
      },
      "execution_count": null,
      "outputs": []
    },
    {
      "cell_type": "code",
      "source": [
        "shape, scale = 2, 1\n",
        "data = np.random.gamma(shape, scale, 1000)\n",
        "plt.hist(data, bins=30, density=True)\n",
        "plt.title('Гамма-распределение с формой=2, масштабом=1')\n",
        "plt.show()"
      ],
      "metadata": {
        "id": "nmil_rZ1os6X"
      },
      "execution_count": null,
      "outputs": []
    },
    {
      "cell_type": "code",
      "source": [
        "p = 0.3\n",
        "data = np.random.geometric(p, 1000)\n",
        "plt.hist(data, bins=30, density=True)\n",
        "plt.title('Геометрическое распределение с p=0.3')\n",
        "plt.show()"
      ],
      "metadata": {
        "id": "THkBQB5No1kN"
      },
      "execution_count": null,
      "outputs": []
    },
    {
      "cell_type": "code",
      "source": [
        "loc, scale = 0, 1\n",
        "data = np.random.normal(loc, scale, 1000)\n",
        "plt.hist(data, bins=30, density=True)\n",
        "plt.title('Нормальное распределение с loc=0, scale=1')\n",
        "plt.show()"
      ],
      "metadata": {
        "id": "TyEeXCP4o8aR"
      },
      "execution_count": null,
      "outputs": []
    },
    {
      "cell_type": "code",
      "source": [
        "lam = 3\n",
        "data = np.random.poisson(lam, 1000)\n",
        "plt.hist(data, bins=30, density=True)\n",
        "plt.title('Пуассоновское распределение с lambda=3')\n",
        "plt.show()"
      ],
      "metadata": {
        "id": "-hYqDVm4pBQ8"
      },
      "execution_count": null,
      "outputs": []
    },
    {
      "cell_type": "code",
      "source": [
        "low, high = 0, 10\n",
        "data = np.random.uniform(low, high, 1000)\n",
        "plt.hist(data, bins=30, density=True)\n",
        "plt.title('Равномерное распределение с low=0, high=10')\n",
        "plt.show()"
      ],
      "metadata": {
        "colab": {
          "base_uri": "https://localhost:8080/",
          "height": 452
        },
        "id": "5TUefdWUpJfp",
        "outputId": "2698f1c6-982e-4a3c-cbf2-b607289664c1"
      },
      "execution_count": 10,
      "outputs": [
        {
          "output_type": "display_data",
          "data": {
            "text/plain": [
              "<Figure size 640x480 with 1 Axes>"
            ],
            "image/png": "[encoded data removed]"
          },
          "metadata": {}
        }
      ]
    }
  ]
}